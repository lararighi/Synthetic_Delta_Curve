{
 "cells": [
  {
   "cell_type": "code",
   "execution_count": null,
   "metadata": {},
   "outputs": [],
   "source": [
    "import numpy as np\n",
    "import pandas as pd\n",
    "import math\n",
    "\n",
    "from matplotlib import cm\n",
    "import matplotlib.mlab as ml\n",
    "import matplotlib.pyplot as plt\n",
    "from scipy.optimize import curve_fit\n",
    "import scipy.ndimage.filters as filters\n",
    "from scipy.interpolate import RectBivariateSpline\n",
    "from scipy.ndimage.filters import gaussian_filter\n",
    "\n",
    "%matplotlib inline\n",
    "import plotly\n",
    "from plotly import tools\n",
    "from plotly.graph_objs import *\n",
    "plotly.offline.init_notebook_mode()\n",
    "\n",
    "import warnings\n",
    "warnings.simplefilter(action = \"ignore\", category = FutureWarning)"
   ]
  },
  {
   "cell_type": "code",
   "execution_count": null,
   "metadata": {},
   "outputs": [],
   "source": [
    "xdata = np.array([0, 25e4, 50e4, 100e4, 150e4, 250e4, 300e4, 350e4, 450e4]) # longitudinal distance\n",
    "ydata = np.array([2500,3000/2, 2000/2, 100/2, 0, -500, -3e3, -3e3, -3e3])#elevation\n",
    "nx = 450 #number of nodes in modeling domain x axis\n",
    "ny = 200#number of nodes in modeling domain y axis\n",
    "xp = np.linspace(0, 4500000, nx+1)  # dx = 10km resolution\n",
    "yp = np.linspace(0, 2000000, ny+1)  # dy = 10km resolution\n",
    "p3 = np.poly1d(np.polyfit(xdata, ydata, 4))\n",
    "p30 = np.poly1d(np.polyfit(xdata, ydata, 30))"
   ]
  },
  {
   "cell_type": "code",
   "execution_count": null,
   "metadata": {},
   "outputs": [],
   "source": [
    "plt.plot(xdata, ydata, 'b.', xp, p3(xp), '-')"
   ]
  },
  {
   "cell_type": "code",
   "execution_count": null,
   "metadata": {},
   "outputs": [],
   "source": [
    "## Some modifications: change the elevation of the ocean floor (the right edge)\n",
    "a = np.ones(120)* -3e3\n",
    "elev = p3(xp)\n",
    "for i in range(330,450):\n",
    "    elev[i] = a[i-330]"
   ]
  },
  {
   "cell_type": "code",
   "execution_count": null,
   "metadata": {},
   "outputs": [],
   "source": [
    "len(a)"
   ]
  },
  {
   "cell_type": "code",
   "execution_count": null,
   "metadata": {},
   "outputs": [],
   "source": [
    "##### Smooth the curve\n",
    "elev_gs = filters.gaussian_filter1d(elev,sigma=3)\n",
    "# ef is a factor by which elevation can be adjusted up or down so that the shoreline and thus base level can be moved\n",
    "ef=1e3\n",
    "elevation=elev_gs+ef\n",
    "plotly.offline.iplot([Scatter(x=xp, y=elevation)])"
   ]
  },
  {
   "cell_type": "code",
   "execution_count": null,
   "metadata": {},
   "outputs": [],
   "source": [
    "### this checks at which index of the dataset the elevation is zero to \"split\" the domain in marine or terrestrial \n",
    "id = np.where(elev_gs<-1e3)[0]\n",
    "print (id[0])\n"
   ]
  },
  {
   "cell_type": "code",
   "execution_count": null,
   "metadata": {},
   "outputs": [],
   "source": []
  }
 ],
 "metadata": {
  "kernelspec": {
   "display_name": "Python 3",
   "language": "python",
   "name": "python3"
  },
  "language_info": {
   "codemirror_mode": {
    "name": "ipython",
    "version": 3
   },
   "file_extension": ".py",
   "mimetype": "text/x-python",
   "name": "python",
   "nbconvert_exporter": "python",
   "pygments_lexer": "ipython3",
   "version": "3.5.3"
  }
 },
 "nbformat": 4,
 "nbformat_minor": 2
}
